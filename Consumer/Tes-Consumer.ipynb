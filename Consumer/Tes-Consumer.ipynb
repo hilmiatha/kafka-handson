{
 "cells": [
  {
   "cell_type": "code",
   "execution_count": null,
   "id": "500993e3-0b68-4903-be57-8226e01b9f50",
   "metadata": {
    "tags": []
   },
   "outputs": [
    {
     "name": "stdout",
     "output_type": "stream",
     "text": [
      "Starting the consumer\n"
     ]
    }
   ],
   "source": [
    "import json\n",
    "from kafka import KafkaConsumer\n",
    "\n",
    "if __name__ == \"__main__\":\n",
    "    consumer = KafkaConsumer(\"ftde02-kafka\", bootstrap_servers='34.50.74.180')\n",
    "    print(\"Starting the consumer\")\n",
    "    \n",
    "    for msg in consumer:\n",
    "        print(f\"Records = {json.loads(msg.value)}\")\n",
    "        \n",
    "        # Parsing pesan Kafka\n",
    "        data = json.loads(msg.value)"
   ]
  },
  {
   "cell_type": "code",
   "execution_count": null,
   "id": "90141391-b062-42f1-a4c2-bf9dc55674fc",
   "metadata": {},
   "outputs": [],
   "source": []
  }
 ],
 "metadata": {
  "kernelspec": {
   "display_name": "Python 3 (ipykernel)",
   "language": "python",
   "name": "python3"
  },
  "language_info": {
   "codemirror_mode": {
    "name": "ipython",
    "version": 3
   },
   "file_extension": ".py",
   "mimetype": "text/x-python",
   "name": "python",
   "nbconvert_exporter": "python",
   "pygments_lexer": "ipython3",
   "version": "3.11.5"
  }
 },
 "nbformat": 4,
 "nbformat_minor": 5
}
